{
  "nbformat": 4,
  "nbformat_minor": 0,
  "metadata": {
    "colab": {
      "name": "Introdução_Visão_Computacional_Python_OpenCV.ipynb",
      "provenance": [],
      "collapsed_sections": [],
      "mount_file_id": "1KJAIvITHN8PCPdfMv_pj7lWeR-inrLn4",
      "authorship_tag": "ABX9TyO2NhDN6AeXxKiJQZztU6mm",
      "include_colab_link": true
    },
    "kernelspec": {
      "name": "python3",
      "display_name": "Python 3"
    },
    "language_info": {
      "name": "python"
    }
  },
  "cells": [
    {
      "cell_type": "markdown",
      "metadata": {
        "id": "view-in-github",
        "colab_type": "text"
      },
      "source": [
        "<a href=\"https://colab.research.google.com/github/ClaudioDiporty/Introduction-to-Vision-Computational-with-Python-and-OpenCV/blob/main/Introdu%C3%A7%C3%A3o_Vis%C3%A3o_Computacional_Python_OpenCV.ipynb\" target=\"_parent\"><img src=\"https://colab.research.google.com/assets/colab-badge.svg\" alt=\"Open In Colab\"/></a>"
      ]
    },
    {
      "cell_type": "markdown",
      "source": [
        "# *Importando as bibliotecas necessárias.*"
      ],
      "metadata": {
        "id": "Wq4Oqf66a5nY"
      }
    },
    {
      "cell_type": "code",
      "execution_count": 1,
      "metadata": {
        "id": "1sHJ9Ierk0kg"
      },
      "outputs": [],
      "source": [
        "import cv2\n",
        "from cv2 import cvtColor\n",
        "from matplotlib import pyplot as plt\n",
        "import numpy as np"
      ]
    },
    {
      "cell_type": "markdown",
      "source": [
        "# *Mostrando as propriedades de uma imagem:*"
      ],
      "metadata": {
        "id": "mm36epn4BjmN"
      }
    },
    {
      "cell_type": "markdown",
      "source": [
        "# *Abrir, exibir e salvar  uma imagem.*"
      ],
      "metadata": {
        "id": "nDT5H5XqsSjI"
      }
    },
    {
      "cell_type": "code",
      "source": [
        "#Função usada para abrir a imagem através de cv2.imread() que leva como argumento o nome do arquivo em disco\n",
        "imagem = cv2.imread('/content/drive/MyDrive/10-SEGMENTAÇÃO DE IMAGENS E RECONHECIMENTO DE PADRÕES/FOTOS/millennium_falcon.jpg')\n",
        "imagem = cv2.cvtColor(imagem, cv2.COLOR_BGR2RGB)\n",
        "\n",
        "#Mostrar a imagem com a função plt.imshow da matplotlib\n",
        "plt.imshow(imagem)\n",
        "plt.title(\"Millennium Falcon\") #Colocar título na imagem\n",
        "plt.show()\n",
        "\n",
        "#Salvar a imagem no disco com função imwrite()\n",
        "imagem = cv2.cvtColor(imagem, cv2.COLOR_BGR2RGB) #Trocar a cor BGR para RGB\n",
        "cv2.imwrite(\"galaxia_original.jpg\", imagem)\n",
        "\n",
        "#Mostrar a imagem em uma janela, espera pressionar qualquer tecla para fechar\n",
        "cv2.waitKey(0) "
      ],
      "metadata": {
        "id": "BP8QTzm3tEkS"
      },
      "execution_count": null,
      "outputs": []
    },
    {
      "cell_type": "markdown",
      "source": [
        "# *Exibir:<br/>Largura, altura e quantidade de canais em pixels*"
      ],
      "metadata": {
        "id": "GNJ0XgVavLYi"
      }
    },
    {
      "cell_type": "code",
      "source": [
        "#Saber largura, altura e quantidade de canais da imagem\n",
        "print('Largura em pixels: ', end='')\n",
        "print(imagem.shape[1]) #Largura da imagem\n",
        "print('Altura em pixels: ', end='')\n",
        "print(imagem.shape[0]) #Altura da imagem\n",
        "print('Qtde de canais: ', end='')\n",
        "print(imagem.shape[2]) #Qtde de canais da imagem    "
      ],
      "metadata": {
        "id": "40hcF6aupUDA",
        "colab": {
          "base_uri": "https://localhost:8080/"
        },
        "outputId": "60470c5e-c98d-454d-c35f-f337f6aa7389"
      },
      "execution_count": 3,
      "outputs": [
        {
          "output_type": "stream",
          "name": "stdout",
          "text": [
            "Largura em pixels: 445\n",
            "Altura em pixels: 640\n",
            "Qtde de canais: 3\n"
          ]
        }
      ]
    },
    {
      "cell_type": "markdown",
      "source": [
        "# *Sistema de coordenadas e manipulação de pixels*\n"
      ],
      "metadata": {
        "id": "V_b0jnbF_QqO"
      }
    },
    {
      "cell_type": "code",
      "source": [
        "(b, g, r) = imagem[600, 280] #Veja que a ordem BGR e não RGB\n",
        "print('O pixel (0, 0) tem as seguintes cores:')\n",
        "print('Vermelho:', r,'-', 'Verde:', g,'-', 'Azul:', b)"
      ],
      "metadata": {
        "id": "NrTdyUwN7Yw3"
      },
      "execution_count": null,
      "outputs": []
    },
    {
      "cell_type": "code",
      "source": [
        "print('O pixel (167, 298) tem as seguintes cores:')\n",
        "(b, g, r) = imagem[0, 0] #Veja que a ordem BGR e não RGB\n",
        "print('Vermelho:', r,'-', 'Verde:', g,'-', 'Azul:', b)"
      ],
      "metadata": {
        "id": "aEC-HhFo914B"
      },
      "execution_count": null,
      "outputs": []
    },
    {
      "cell_type": "markdown",
      "source": [
        "## *Outra possibilidade é utilizar dois laços de repetição para<br/> “Varrer” todos os pixels da imagem.<br/>Lembrando que o custo do Algoritmo é alto,<br/> pois precisa \"Varrer\" toda imagem.* "
      ],
      "metadata": {
        "id": "CSkZtjphCm9k"
      }
    },
    {
      "cell_type": "code",
      "source": [
        "\"\"\"\n",
        "-Cores mais comuns em RGB\n",
        "1.   Branco - RGB (255,255,255)\n",
        "2.   Azul - RGB (0,0,255)\n",
        "3.   Vermelho - RGB (255,0,0)\n",
        "4.   Verde - RGB (0,255,0)\n",
        "5.   Amarelo - RGB (255,255,0)\n",
        "6.   Magenta - RGB (255,0,255)\n",
        "7.   Ciano - RGB (0,255,255)\n",
        "8.   Preto - RGB (0,0,0)\n",
        "\n",
        "Utilizando sistema de 'varrer'todos os pixels da imagem,\n",
        "o resultado é uma imagem com todos os pixels substituídos pela cor azul RGB(0,0,255)\n",
        "\"\"\"\n",
        "img_percorrer = cv2.imread(\"/content/galaxia_original.jpg\")\n",
        "img_percorrer = cv2.cvtColor(img_percorrer, cv2.COLOR_BGR2RGB)\n",
        "\n",
        "for y in range(0, img_percorrer.shape[0]):\n",
        " for x in range(0, img_percorrer.shape[1]):\n",
        "   img_percorrer[y, x] = (0,0,255) #Em alguns casos, veja que a ordem BGR e não RGB\n",
        "\n",
        "plt.imshow(img_percorrer)\n",
        "plt.title(\"Imagem modificada, todos pixels azul\")\n",
        "plt.show()\n",
        "cv2.waitKey(0)"
      ],
      "metadata": {
        "id": "9SgDmB_EaZqH"
      },
      "execution_count": null,
      "outputs": []
    },
    {
      "cell_type": "code",
      "source": [
        "#Incluíndo as variáveis de linha e coluna para serem componentes de cor\n",
        "img_var_cor = cv2.imread(\"/content/galaxia_original.jpg\")\n",
        "\n",
        "for y in range(0, img_var_cor.shape[0]): #Percorre linhas\n",
        " for x in range(0, img_var_cor.shape[1]): #Percorre colunas\n",
        "  img_var_cor[y, x] = (x%256,y%256,x%256) \n",
        "  \"\"\"Lembrando que as variáveis componentes da cor devem assumir o valor entre 0 e 255, \n",
        "  então utilizamos a operação “resto da divisão por 256” para manter o resultado entre 0 e 255.\n",
        "  \"\"\"\n",
        "plt.imshow(img_var_cor)\n",
        "plt.title(\"Imagem modificada com variáveis como componente de cor\")\n",
        "plt.show()\n",
        "cv2.waitKey(0)"
      ],
      "metadata": {
        "id": "C5DvPhaXHNKZ"
      },
      "execution_count": null,
      "outputs": []
    },
    {
      "cell_type": "code",
      "source": [
        "\"\"\"Veja que utilizamos os valores de linha multiplicado pela coluna (x*y) no componente “R”, \n",
        "(lembrando que é BGR e não RGB), da tupla que forma a cor de cada pixel e deixamos o \n",
        "componente azul e verde zerados. \n",
        "A dinâmica da mudança de linhas e colunas gera esta imagem.\n",
        "\"\"\"\n",
        "#Verificar se a imagem está em RGB ou BGR\n",
        "img_valor_X_linha = cv2.imread(\"/content/galaxia_original.jpg\")\n",
        "\n",
        "for y in range(0, img_valor_X_linha.shape[0], 1): #Percorre as linhas\n",
        " for x in range(0, img_valor_X_linha.shape[1], 1): #Percorre as colunas\n",
        "  img_valor_X_linha[y, x] = ((x*y)%256, 0, 0)\n",
        "\n",
        "plt.imshow(img_valor_X_linha)\n",
        "plt.title(\"Imagem com valores de linhas modificados\")\n",
        "plt.show()\n",
        "cv2.waitKey(0)"
      ],
      "metadata": {
        "id": "bhtWz0TcK104"
      },
      "execution_count": null,
      "outputs": []
    },
    {
      "cell_type": "code",
      "source": [
        "\"\"\"Saltar a cada 10 pixels ao percorrer as linhas e mais 10 pixels ao percorrer as colunas. \n",
        "A cada salto é criado um quadrado de 5x5 pixels.\n",
        "\"\"\"\n",
        "image_quad = cv2.imread(\"/content/galaxia_original.jpg\")\n",
        "image_quad = cv2.cvtColor(image_quad, cv2.COLOR_BGR2RGB)\n",
        "\n",
        "for y in range(0, image_quad.shape[0], 10):   #Percorre linhas\n",
        "  for x in range(0, image_quad.shape[1], 10): #Percorre colunas\n",
        "    image_quad[y:y+5, x: x+5] = (0,0,0)       #Define a cor\n",
        "\n",
        "plt.imshow(image_quad)\n",
        "plt.title(\"Imagem modificada\")\n",
        "plt.show()\n",
        "cv2.waitKey(0)"
      ],
      "metadata": {
        "id": "yq4JKsA6NnUL"
      },
      "execution_count": null,
      "outputs": []
    },
    {
      "cell_type": "markdown",
      "source": [
        "# *Fatiamento e desenho geométricos sobre a imagem*\n"
      ],
      "metadata": {
        "id": "REBkBebTP2Nv"
      }
    },
    {
      "cell_type": "markdown",
      "source": [
        "## *Técnica de Slicing*"
      ],
      "metadata": {
        "id": "eFONBmSmfWQw"
      }
    },
    {
      "cell_type": "code",
      "source": [
        "#Para alterar vários pixeis da imagem de uma única vez\n",
        "imagem_slicing = cv2.imread('galaxia_original.jpg')\n",
        "imagem_slicing = cv2.cvtColor(imagem_slicing, cv2.COLOR_BGR2RGB)\n",
        "\n",
        "#Cria um retangulo azul por toda a largura da imagem\n",
        "imagem_slicing[30:50, :] = (255, 0, 0)\n",
        "\n",
        "#Cria um quadrado vermelho\n",
        "imagem_slicing[100:150, 50:100] = (0, 0, 255)\n",
        "\n",
        "#Cria um retangulo amarelo por toda a altura da imagem\n",
        "imagem_slicing[:, 200:220] = (0, 255, 255)\n",
        "\n",
        "#Cria um retangulo verde da linha 150 a 300 nas colunas 250 a 350\n",
        "imagem_slicing[30:80, 250:270] = (0, 255, 0)\n",
        "\n",
        "#Cria um quadrado ciano da linha 150 a 300 nas colunas 250 a 350\n",
        "imagem_slicing[90:220, 150:180] = (255, 255, 0)\n",
        "\n",
        "#Cria um quadrado branco\n",
        "imagem_slicing[110:160, 230:260] = (255, 255, 255)\n",
        "\n",
        "#Cria um quadrado preto\n",
        "imagem_slicing[30:140, 50:70] = (0, 0, 0)\n",
        "\n",
        "plt.imshow(imagem_slicing)\n",
        "plt.title(\"Resultado de fatiamento de pixel da imagem\")\n",
        "plt.show()\n",
        "cv2.waitKey(0)"
      ],
      "metadata": {
        "id": "8U1-SxBoVXk2"
      },
      "execution_count": null,
      "outputs": []
    },
    {
      "cell_type": "code",
      "source": [
        "#Varias figuras geométricas\n",
        "img_geometricas = cv2.imread('/content/galaxia_original.jpg')\n",
        "img_geometricas = cv2.cvtColor(img_geometricas, cv2.COLOR_BGR2RGB)\n",
        "\n",
        "vermelho = (0, 0, 255)\n",
        "verde = (0, 255, 0)\n",
        "azul = (255, 0, 0)\n",
        "magenta = (255, 0, 255) #RGB(255,0,255)\n",
        "ciano = (255, 255, 0)   #RGB(0,255,255)\n",
        "amarelo = (0, 255, 255) #RGB(255,255,0)\n",
        "branco = (255,255,255)\n",
        "preto = (0,0,0)\n",
        "\n",
        "cv2.line(img_geometricas, (0, 0), (100, 200), azul, 5)\n",
        "cv2.line(img_geometricas, (300, 200), (100, 100), amarelo, 10)\n",
        "cv2.rectangle(img_geometricas, (20, 20), (120, 120), vermelho, 5)\n",
        "cv2.rectangle(img_geometricas, (200, 50), (225, 125), ciano, -1)\n",
        "\n",
        "(X, Y) = (img_geometricas.shape[1] // 2, img_geometricas.shape[0] // 2)\n",
        "for raio in range(0, 160, 15):\n",
        "  cv2.circle(img_geometricas, (X, Y), raio, branco)\n",
        "\n",
        "plt.imshow(img_geometricas)\n",
        "plt.title(\"Varias Figuras Geométricas\")\n",
        "plt.show()"
      ],
      "metadata": {
        "id": "VDX-zMl4uSRa"
      },
      "execution_count": null,
      "outputs": []
    },
    {
      "cell_type": "code",
      "source": [
        "#Escrever na Imagem\n",
        "img_escrita = cv2.imread('/content/galaxia_original.jpg')\n",
        "img_escrita = cv2.cvtColor(img_escrita, cv2.COLOR_BGR2RGB)\n",
        "\n",
        "fonte = cv2.FONT_HERSHEY_SIMPLEX\n",
        "cv2.putText(img_escrita,'Millennium',(90,300), fonte,2,(255,0,0),2,cv2.LINE_AA,)\n",
        "\n",
        "plt.imshow(img_escrita)\n",
        "plt.title(\"Imagem com escrita\")\n",
        "plt.show()"
      ],
      "metadata": {
        "id": "cw1FvZiS8Chd"
      },
      "execution_count": null,
      "outputs": []
    },
    {
      "cell_type": "markdown",
      "source": [
        "# *Transformações e máscaras*"
      ],
      "metadata": {
        "id": "joXB17znE5wM"
      }
    },
    {
      "cell_type": "markdown",
      "source": [
        "## *1.1 Cortando uma imagem / Crop*"
      ],
      "metadata": {
        "id": "Tbfg8qPs_TJ9"
      }
    },
    {
      "cell_type": "code",
      "source": [
        "#Recorte \n",
        "img_crop = cv2.imread('/content/galaxia_original.jpg')\n",
        "img_crop = cv2.cvtColor(img_crop, cv2.COLOR_BGR2RGB)\n",
        "\n",
        "recorte = img_crop[10:60, 100:160]\n",
        "plt.imshow(recorte)\n",
        "plt.title(\"Exibe recorte da imagem da linha 10 até a linha 60 e da coluna 101 até a coluna 160:\")\n",
        "plt.show()\n",
        "cv2.waitKey(0)"
      ],
      "metadata": {
        "id": "-PnBdIO3FN0T"
      },
      "execution_count": null,
      "outputs": []
    },
    {
      "cell_type": "markdown",
      "source": [
        "## *1.2 Redimensionamento / Resize\\*"
      ],
      "metadata": {
        "id": "IfDe6ATWFQvd"
      }
    },
    {
      "cell_type": "code",
      "source": [
        "\"\"\"\n",
        "Importante: É preciso calcular a proporção da altura em relação a largura\n",
        "da nova imagem, caso contrário ela poderá ficar distorcida.\n",
        "\"\"\"\n",
        "img_resize = cv2.imread('/content/galaxia_original.jpg')\n",
        "img_resize = cv2.cvtColor(img_resize, cv2.COLOR_BGR2RGB)\n",
        "\n",
        "largura = img_resize.shape[1]\n",
        "altura = img_resize.shape[0]\n",
        "proporcao = float(altura/largura)\n",
        "\n",
        "largura_nova = 150 #Em pixels\n",
        "altura_nova = int(largura_nova*proporcao)\n",
        "tamanho_novo = (largura_nova, altura_nova)\n",
        "\n",
        "img_redimensionada = cv2.resize(img_resize,\n",
        "tamanho_novo, interpolation = cv2.INTER_AREA) \n",
        "\"\"\"A função ‘rezise’ utiliza uma propriedade definida como \n",
        "cv2.INTER_AREA que é uma especificação do cálculo matemático\n",
        "para redimensionar a imagem.\n",
        "\"\"\"                                          \n",
        "plt.imshow(img_redimensionada)\n",
        "plt.title(\"Imagem Redimensionada\")\n",
        "plt.show()\n",
        "\n",
        "cv2.waitKey(0)"
      ],
      "metadata": {
        "id": "8w17fLGaIudt"
      },
      "execution_count": null,
      "outputs": []
    },
    {
      "cell_type": "code",
      "source": [
        "\"\"\"\n",
        "Outra meneira de redimensionar imagem é utilizando a técnica de ‘slicing’.\n",
        "Neste caso, cortar pela metade o tamanho da imagem.\n",
        "\"\"\"\n",
        "img_resize_slicing = cv2.imread('/content/galaxia_original.jpg')\n",
        "img_redimensionada_slicing = img_resize_slicing[::2,::2]\n",
        "img_redimensionada_slicing = cv2.cvtColor(img_redimensionada_slicing, cv2.COLOR_BGR2RGB)\n",
        "\n",
        "plt.imshow(img_redimensionada_slicing)\n",
        "plt.title(\"Técnica Slicing\")\n",
        "plt.show()\n",
        "\n",
        "print(\"Largura:\", img_redimensionada_slicing.shape[1], \"pixels\")\n",
        "print(\"Altura: \", img_redimensionada_slicing.shape[0], \"pixels\")\n",
        "\n",
        "cv2.waitKey(0)"
      ],
      "metadata": {
        "id": "2VjtJgi7Ry9w"
      },
      "execution_count": null,
      "outputs": []
    },
    {
      "cell_type": "markdown",
      "source": [
        "## *1.3 Espelhando uma imagem / Flip*"
      ],
      "metadata": {
        "id": "zhkjYvSlWAiB"
      }
    },
    {
      "cell_type": "code",
      "source": [
        "#Espelhamento Horinzontal\n",
        "flip_horizontal = cv2.imread('/content/galaxia_original.jpg')\n",
        "flip_horizontal = cv2.cvtColor(flip_horizontal, cv2.COLOR_BGR2RGB)\n",
        "\n",
        "#flip_horizontal = img_flip[::-1,:] #Comando equivalente abaixo\n",
        "flip_horizontal = cv2.flip(flip_horizontal, 1)\n",
        "\n",
        "plt.imshow(flip_horizontal)\n",
        "plt.title(\"Espelhamento Horinzontal\")\n",
        "plt.show()\n",
        "\n",
        "cv2.waitKey(0)"
      ],
      "metadata": {
        "id": "hfP_rTTTWdCW"
      },
      "execution_count": null,
      "outputs": []
    },
    {
      "cell_type": "code",
      "source": [
        "#Espelhamento Vertical\n",
        "flip_vertical = cv2.imread('/content/galaxia_original.jpg')\n",
        "flip_vertical = cv2.cvtColor(flip_vertical, cv2.COLOR_BGR2RGB)\n",
        "\n",
        "#flip_vertical = flip_vertical[:,::-1] #Comando equivalente abaixo\n",
        "flip_vertical = cv2.flip(flip_vertical, 0)\n",
        "\n",
        "plt.imshow(flip_vertical)\n",
        "plt.title(\"Espelhamento Vertical\")\n",
        "plt.show()\n",
        "cv2.waitKey(0)"
      ],
      "metadata": {
        "id": "OG3wbjxma6kn"
      },
      "execution_count": null,
      "outputs": []
    },
    {
      "cell_type": "code",
      "source": [
        "#h = horinzontal, v = vertical\n",
        "flip_hv = cv2.imread('/content/galaxia_original.jpg')\n",
        "flip_hv = cv2.cvtColor(flip_hv, cv2.COLOR_BGR2RGB)\n",
        "\n",
        "flip_hv = flip_hv[::-1,::-1] #Comando equivalente abaixo\n",
        "#flip_hv = cv2.flip(img, -1)\n",
        "\n",
        "plt.imshow(flip_hv)\n",
        "plt.title(\"h = horinzontal, v = vertical\")\n",
        "plt.show()\n",
        "\n",
        "cv2.waitKey(0)"
      ],
      "metadata": {
        "id": "kkfDMmWlZKLn"
      },
      "execution_count": null,
      "outputs": []
    },
    {
      "cell_type": "markdown",
      "source": [
        "## *1.4 Rotacionando uma imagem / Rotate*"
      ],
      "metadata": {
        "id": "JvJ1I_m1c9zq"
      }
    },
    {
      "cell_type": "code",
      "source": [
        "img_rotate = cv2.imread('/content/galaxia_original.jpg')\n",
        "img_rotate = cv2.cvtColor(img_rotate, cv2.COLOR_BGR2RGB) #Transforamar BGR em RGB\n",
        "\n",
        "(alt, lar) = img_rotate.shape[:2] #Captura altura e largura\n",
        "centro = (lar // 2, alt // 2) #Achar o centro da Imagem\n",
        "M = cv2.getRotationMatrix2D(centro, 30, 1.0) #30 graus\n",
        "\n",
        "img_rotacionada = cv2.warpAffine(img_rotate, M, (lar, alt))\n",
        "\n",
        "plt.imshow(img_rotacionada)\n",
        "plt.title(\"Imagem rotacionada em 30 graus\")\n",
        "plt.show()\n",
        "\n",
        "cv2.waitKey(0)"
      ],
      "metadata": {
        "id": "lWreRNeteBce"
      },
      "execution_count": null,
      "outputs": []
    },
    {
      "cell_type": "markdown",
      "source": [
        "## *1.5 Máscaras*"
      ],
      "metadata": {
        "id": "vKYJDKCzhbEQ"
      }
    },
    {
      "cell_type": "code",
      "source": [
        "\"\"\"\n",
        "Uma máscara nada mais é que uma imagem onde cada pixel pode estar “ligado” ou “desligado”,\n",
        "ou seja, a máscara possui pixels pretos e brancos apenas.\n",
        "Veja o primeiro exemplo:\n",
        "\"\"\"\n",
        "img_mascara = cv2.imread('/content/galaxia_original.jpg')\n",
        "img_mascara = cv2.cvtColor(img_mascara, cv2.COLOR_BGR2RGB)\n",
        "\n",
        "plt.imshow(img_mascara)\n",
        "plt.title(\"Imagem Original\")\n",
        "plt.show()\n",
        "\n",
        "mascara = np.zeros(img_mascara.shape[:2], dtype = \"uint8\")\n",
        "(cX, cY) = (img_mascara.shape[1] // 2, img_mascara.shape[0] // 2)\n",
        "cv2.circle(mascara, (cX, cY), 80, 255, -1)\n",
        "\n",
        "img_com_mascara = cv2.bitwise_and(img_mascara, img_mascara, mask = mascara)\n",
        "\n",
        "\n",
        "plt.imshow(img_com_mascara)\n",
        "plt.title(\"Imagem com Aplicação da Mascára\")\n",
        "plt.show()\n",
        "\n",
        "cv2.waitKey(0)"
      ],
      "metadata": {
        "id": "JbY-RosThfDb"
      },
      "execution_count": null,
      "outputs": []
    },
    {
      "cell_type": "code",
      "source": [
        "\"\"\"\n",
        "Segundo exemplo:\n",
        "\"\"\"\n",
        "img_mascara_02 = cv2.imread('/content/galaxia_original.jpg')\n",
        "img_mascara_02 = cv2.cvtColor(img_mascara_02, cv2.COLOR_BGR2RGB)\n",
        "\n",
        "mascara = np.zeros(img_mascara_02.shape[:2], dtype = \"uint8\")\n",
        "(cX, cY) = (img_mascara_02.shape[1] // 2, img_mascara_02.shape[0] // 2)\n",
        "cv2.circle(mascara, (cX, cY), 180, 255, 70)\n",
        "cv2.circle(mascara, (cX, cY), 70, 255, -1)\n",
        "\n",
        "img_com_mascara_02 = cv2.bitwise_and(img_mascara_02, img_mascara_02, mask = mascara)\n",
        "\n",
        "plt.imshow(img_com_mascara_02)\n",
        "plt.title(\"Imagem com Aplicação da Mascára\")\n",
        "plt.show()"
      ],
      "metadata": {
        "id": "WzF8XxBfldbD"
      },
      "execution_count": null,
      "outputs": []
    },
    {
      "cell_type": "markdown",
      "source": [
        "# *Sistemas de cores*\n",
        "\n"
      ],
      "metadata": {
        "id": "2Snwdn2npOYu"
      }
    },
    {
      "cell_type": "code",
      "source": [
        "\"\"\"\n",
        "Além dos espaços de cores RGB(que OpenCv lê em BGR), existe outros\n",
        "espaços de cores como:\n",
        "-\"Preto e Branco\"\n",
        "-\"Tons de Cinza\"\n",
        "-\"L*a*b*\"\n",
        "-\"HSV\"\n",
        "\"\"\"\n",
        "img_original_juntos = cv2.imread(\"/content/galaxia_original.jpg\")\n",
        "cv2.imwrite(\"original_juntos.jpg\", img_original_juntos)"
      ],
      "metadata": {
        "id": "ZdBHKH56pYQ1",
        "colab": {
          "base_uri": "https://localhost:8080/"
        },
        "outputId": "6e24aab7-886b-4a71-a647-83fadd21c689"
      },
      "execution_count": 23,
      "outputs": [
        {
          "output_type": "execute_result",
          "data": {
            "text/plain": [
              "True"
            ]
          },
          "metadata": {},
          "execution_count": 23
        }
      ]
    },
    {
      "cell_type": "code",
      "source": [
        "img_juntos = cv2.imread(\"/content/original_juntos.jpg\")\n",
        "img_juntos = cv2.cvtColor(img_juntos, cv2.COLOR_BGR2RGB)\n",
        "\n",
        "plt.imshow(img_juntos)\n",
        "plt.title(\"Millennium Falcon\")\n",
        "plt.show()\n",
        "\n",
        "gray = cv2.cvtColor(img_juntos, cv2.COLOR_BGR2GRAY) #tons de cinza\n",
        "plt.imshow(gray)\n",
        "plt.title(\"Gray\")\n",
        "plt.show()\n",
        "\n",
        "hsv = cv2.cvtColor(img_juntos, cv2.COLOR_BGR2HSV)\n",
        "plt.imshow(hsv)\n",
        "plt.title(\"HSV\")\n",
        "plt.show()\n",
        "\n",
        "lab = cv2.cvtColor(img_juntos, cv2.COLOR_BGR2LAB)\n",
        "plt.imshow(lab)\n",
        "plt.title(\"L*a*b*\")\n",
        "plt.show()\n",
        "\n",
        "cv2.waitKey(0)"
      ],
      "metadata": {
        "id": "zypGlrh9xUht"
      },
      "execution_count": null,
      "outputs": []
    },
    {
      "cell_type": "code",
      "source": [
        "\"\"\"\n",
        "Formato RGB possui 3 canais, canais, um para cada cor. \n",
        "Existem funções do OpenCV que permitem separar e visualizar esses canais individualmente.\n",
        "\"\"\"\n",
        "individual = cv2.imread('/content/galaxia_original.jpg')\n",
        "#individual = cv2.cvtColor(individual, cv2.COLOR_BGR2RGB)\n",
        "\n",
        "#função ‘split’ faz separar os canais. Assim podemos exibí-los separadamente\n",
        "(canalAzul, canalVerde, canalVermelho) = cv2.split(individual)\n",
        "\n",
        "plt.imshow(canalVermelho)\n",
        "plt.title(\"vermelho\")\n",
        "plt.show()\n",
        "\n",
        "plt.imshow(canalVerde)\n",
        "plt.title(\"verde\")\n",
        "plt.show()\n",
        "\n",
        "plt.imshow(canalAzul)\n",
        "plt.title(\"azul\")\n",
        "plt.show()\n",
        "\n",
        "cv2.waitKey(0)"
      ],
      "metadata": {
        "id": "IbYAlw9NBc_F"
      },
      "execution_count": null,
      "outputs": []
    },
    {
      "cell_type": "code",
      "source": [
        "\"\"\"\n",
        "É possível exibir os canais nas cores originais\n",
        "Cores mais comuns em RGB\n",
        "1.   Branco - RGB (255,255,255)\n",
        "2.   Azul - RGB (0,0,255)\n",
        "3.   Vermelho - RGB (255,0,0)\n",
        "4.   Verde - RGB (0,255,0)\n",
        "5.   Amarelo - RGB (255,255,0)\n",
        "6.   Magenta - RGB (255,0,255)\n",
        "7.   Ciano - RGB (0,255,255)\n",
        "8.   Preto - RGB (0,0,0)\n",
        "\"\"\"\n",
        "indiv_original = cv2.imread('/content/galaxia_original.jpg')\n",
        "indiv_original = cv2.cvtColor(indiv_original, cv2.COLOR_BGR2RGB)\n",
        "\n",
        "#usando a função cv2.split\n",
        "(canalAzul, canalVerde, canalVermelho) = cv2.split(indiv_original)\n",
        "\n",
        "#criando matriz de 'zeros'\n",
        "zeros = np.zeros(indiv_original.shape[:2], dtype = \"uint8\")\n",
        "\n",
        "#usando a função cv2.merge  \n",
        "plt.imshow(cv2.merge([canalVermelho, zeros, zeros]))\n",
        "plt.title(\"canal vermelho\")\n",
        "plt.show()\n",
        "\n",
        "plt.imshow(cv2.merge([zeros,canalVerde, zeros]))\n",
        "plt.title(\"canal verde\")\n",
        "plt.show()\n",
        "\n",
        "plt.imshow(cv2.merge([zeros, zeros,canalAzul]))\n",
        "plt.title(\"canal azul\")\n",
        "plt.show()\n",
        "\n",
        "cv2.waitKey(0)"
      ],
      "metadata": {
        "id": "0cGEM44zVsnZ"
      },
      "execution_count": null,
      "outputs": []
    },
    {
      "cell_type": "markdown",
      "source": [
        "# *Histogramas e equalização de imagem*\n"
      ],
      "metadata": {
        "id": "848MnOygaQgo"
      }
    },
    {
      "cell_type": "markdown",
      "source": [
        "## *Histogramas em imagens com tons de cinza*"
      ],
      "metadata": {
        "id": "1_Nlz8h6h8EX"
      }
    },
    {
      "cell_type": "code",
      "source": [
        "\"\"\"\n",
        "Um histograma é um gráfico de colunas ou de linhas que representa a distribuição dos\n",
        "valores dos pixels de uma imagem, ou seja, a quantidade de pixeis mais claros (próximos de\n",
        "255) e a quantidade de pixels mais escuros (próximos de 0).\n",
        "O eixo X do gráfico normalmente possui uma distribuição de 0 a 255 que demonstra o\n",
        "valor (intensidade) do pixel e no eixo Y é plotada a quantidade de pixels daquela intensidade.\n",
        "\"\"\"\n",
        "img_Millennium_gray= cv2.imread('/content/drive/MyDrive/10-SEGMENTAÇÃO DE IMAGENS E RECONHECIMENTO DE PADRÕES/FOTOS/millennium_falcon.jpg')\n",
        "\n",
        "img_Millennium_gray = cv2.cvtColor(img_Millennium_gray, cv2.COLOR_BGR2GRAY) #converte P&B // Imagem original convertidada para tons de cinza.\n",
        "plt.imshow(img_Millennium_gray)\n",
        "plt.title(\"Millennium Falcon\")\n",
        "plt.show()\n",
        "\n",
        "cv2.imwrite(\"Millennium Falcon Cinza.jpg\", img_Millennium_gray) \n",
        "\n",
        "#Função calcHist para calcular o histograma da imagem\n",
        "h = cv2.calcHist([img_Millennium_gray], [0], None, [256], [0, 256])\n",
        "plt.figure()\n",
        "print() \n",
        "plt.title(\"Histograma P&B\")\n",
        "plt.xlabel(\"Intensidade\")\n",
        "plt.ylabel(\"Qtde de Pixels\")\n",
        "plt.plot(h)\n",
        "plt.xlim([0, 256])\n",
        "plt.show()\n",
        "cv2.waitKey(0)"
      ],
      "metadata": {
        "colab": {
          "base_uri": "https://localhost:8080/",
          "height": 594
        },
        "id": "-wucvzF2pI_S",
        "outputId": "d8e8e46a-db97-4aeb-e106-24c5367a676a"
      },
      "execution_count": 55,
      "outputs": [
        {
          "output_type": "display_data",
          "data": {
            "image/png": "[encoded data removed]",
            "text/plain": [
              "<Figure size 432x288 with 1 Axes>"
            ]
          },
          "metadata": {
            "needs_background": "light"
          }
        },
        {
          "output_type": "stream",
          "name": "stdout",
          "text": [
            "\n"
          ]
        },
        {
          "output_type": "display_data",
          "data": {
            "image/png": "[encoded data removed]",
            "text/plain": [
              "<Figure size 432x288 with 1 Axes>"
            ]
          },
          "metadata": {
            "needs_background": "light"
          }
        },
        {
          "output_type": "execute_result",
          "data": {
            "text/plain": [
              "-1"
            ]
          },
          "metadata": {},
          "execution_count": 55
        }
      ]
    },
    {
      "cell_type": "markdown",
      "source": [
        "## *Histogramas com imagens coloridas*"
      ],
      "metadata": {
        "id": "8_ikMXzNiK2-"
      }
    },
    {
      "cell_type": "code",
      "source": [
        "img_Millennium_color = cv2.imread('/content/galaxia_original.jpg')\n",
        "plt.imshow(img_Millennium_color)\n",
        "plt.title(\"Millennium Falcon\")\n",
        "plt.show()\n",
        "\n",
        "#cv2.imwrite(\"Millennium Falcon Colorida.jpg\", img_Millennium_color)\n",
        "\n",
        "#Separa os canais\n",
        "canais = cv2.split(img_Millennium_color)\n",
        "cores = (\"b\", \"g\", \"r\")\n",
        "print()\n",
        "plt.figure()\n",
        "plt.title(\"'Histograma Colorido\")\n",
        "plt.xlabel(\"Intensidade\")\n",
        "plt.ylabel(\"Número de Pixels\")\n",
        "\n",
        "\"\"\"Importante notar que a função ‘zip’ cria uma lista de tuplas formada pelas união\n",
        "das listas passadas e não tem nada a ver com um processo de compactação como poderia se\n",
        "esperar.\n",
        "\"\"\"\n",
        "for (canal, cor) in zip(canais, cores):\n",
        "  #Este loop executa 3 vezes, uma para cada canal\n",
        "  hist = cv2.calcHist([canal], [0], None, [256], [0, 256])\n",
        "  plt.plot(hist, cor)\n",
        "  plt.xlim([0, 256])\n",
        "plt.show()"
      ],
      "metadata": {
        "id": "fLBSpb85b9nT"
      },
      "execution_count": null,
      "outputs": []
    }
  ]
}